{
 "cells": [
  {
   "cell_type": "raw",
   "id": "2bbf79c6",
   "metadata": {},
   "source": [
    "---\n",
    "title: Research\n",
    "echo: false\n",
    "section-divs: false\n",
    "keep-md: true\n",
    "---"
   ]
  },
  {
   "cell_type": "code",
   "execution_count": 1,
   "id": "db0bb143",
   "metadata": {},
   "outputs": [
    {
     "ename": "SyntaxError",
     "evalue": "invalid syntax (1187215810.py, line 46)",
     "output_type": "error",
     "traceback": [
      "\u001b[0;36m  Cell \u001b[0;32mIn[1], line 46\u001b[0;36m\u001b[0m\n\u001b[0;31m    if paper_type = \"working_paper\":\u001b[0m\n\u001b[0m                  ^\u001b[0m\n\u001b[0;31mSyntaxError\u001b[0m\u001b[0;31m:\u001b[0m invalid syntax\n"
     ]
    }
   ],
   "source": [
    "import yaml\n",
    "from IPython.display import display, Markdown, HTML\n",
    "\n",
    "def readable_list(_s):\n",
    "  if len(_s) < 3:\n",
    "    return ' and '.join(map(str, _s))\n",
    "  *a, b = _s\n",
    "  return f\"{', '.join(map(str, a))}, and {b}\"\n",
    "\n",
    "def button(url, str, icon):\n",
    "    icon_base = icon[:2]\n",
    "    return f\"\"\"<a class=\"btn btn-outline-dark btn-sm\", href=\"{url}\" target=\"_blank\" rel=\"noopener noreferrer\">\n",
    "        <i class=\"{icon_base} {icon}\" role='img' aria-label='{str}'></i>\n",
    "        {str}\n",
    "    </a>\"\"\"\n",
    "\n",
    "\n",
    "\n",
    "yaml_data = yaml.safe_load(open(\"papers.yaml\"))\n",
    "pub_strs = {\"pubs\": {}, \"wps\": {}, \"worksinprogress\": {}}\n",
    "for _, data in yaml_data.items():\n",
    "    title_str = data[\"title\"]\n",
    "    authors = data.get(\"authors\", [\"me\"])\n",
    "    authors = [aut if aut != \"me\" else \"<strong>Drew Dimmery</strong>\" for aut in authors]\n",
    "    author_str = readable_list(authors)\n",
    "    year_str = data[\"year\"]\n",
    "\n",
    "    buttons = []\n",
    "    preprint = data.get(\"preprint\")\n",
    "    if preprint is not None:\n",
    "        buttons.append(button(preprint, \"Preprint\", \"bi-file-earmark-pdf\"))\n",
    "\n",
    "    github = data.get(\"github\")\n",
    "    if github is not None:\n",
    "        buttons.append(button(github, \"Github\", \"bi-github\"))\n",
    "\n",
    "    pub_url = data.get(\"published_url\")\n",
    "    venue = data.get(\"venue\")\n",
    "    working_paper = pub_url is None\n",
    "    paper_type = data.get(\"paper_type\")\n",
    "    pub_str = f'{author_str}. ({year_str}) \"{title_str}.\"'\n",
    "\n",
    "    if venue is not None:\n",
    "        pub_str += f\" <em>{venue}</em>\"\n",
    "\n",
    "    if paper_type == \"working_paper\":\n",
    "        if year_str not in pub_strs[\"wps\"]:\n",
    "            pub_strs[\"wps\"][year_str] = []\n",
    "        pub_strs[\"wps\"][year_str].append(\n",
    "            \"<li class='list-group-item'>\" + pub_str + \"<br>\" + \" \".join(buttons) + \"</li>\"\n",
    "        )\n",
    "    elif paper_type == \"works_prog\":\n",
    "        if year_str not in pub_strs[\"worksinprogress\"]:\n",
    "            pub_strs[\"worksinprogress\"][year_str] = []\n",
    "        pub_strs[\"worksinprogress\"][year_str].append(\n",
    "            \"<li class='list-group-item'>\" + pub_str + \"<br>\" + \" \".join(buttons) + \"</li>\"\n",
    "        )\n",
    "    else:\n",
    "        if year_str not in pub_strs[\"pubs\"]:\n",
    "            pub_strs[\"pubs\"][year_str] = []\n",
    "        buttons.append(button(pub_url, \"Published\", \"ai-archive\"))\n",
    "        pub_strs[\"pubs\"][year_str].append(\n",
    "            \"<li class='list-group-item'>\" + pub_str + \"<br>\" + \" \".join(buttons) + \"</li>\"\n",
    "        )"
   ]
  },
  {
   "cell_type": "markdown",
   "id": "9b37c804",
   "metadata": {},
   "source": [
    "## Published\n"
   ]
  },
  {
   "cell_type": "code",
   "execution_count": null,
   "id": "published-year",
   "metadata": {},
   "outputs": [],
   "source": [
    "#| label: published-year\n",
    "#| output: asis\n",
    "for year in sorted(pub_strs[\"pubs\"].keys(), reverse=True):\n",
    "    display(Markdown(f\"### {year}\" + \"{#\" + f\"published-{year}\" + \"}\"))\n",
    "    display(HTML(\n",
    "        \"<ul class='list-group list-group-flush'>\" + '\\n'.join(pub_strs[\"pubs\"][year]) + \"</ul>\"\n",
    "    ))"
   ]
  },
  {
   "cell_type": "markdown",
   "id": "b4d8026b",
   "metadata": {},
   "source": [
    "## Working Papers\n"
   ]
  },
  {
   "cell_type": "code",
   "execution_count": null,
   "id": "not-published-year",
   "metadata": {},
   "outputs": [],
   "source": [
    "#| label: not-published-year\n",
    "#| output: asis\n",
    "for year in sorted(pub_strs[\"wps\"].keys(), reverse=True):\n",
    "    display(Markdown(f\"### {year}\" + \"{#\" + f\"not-published-{year}\" + \"}\"))\n",
    "    display(HTML(\n",
    "        \"<ul class='list-group list-group-flush'>\" + '\\n'.join(pub_strs[\"wps\"][year]) + \"</ul>\"\n",
    "    ))"
   ]
  },
  {
   "cell_type": "markdown",
   "id": "aa3813bd",
   "metadata": {},
   "source": [
    "## Works in Progress\n"
   ]
  },
  {
   "cell_type": "code",
   "execution_count": null,
   "id": "not-published-year-works",
   "metadata": {},
   "outputs": [],
   "source": [
    "#| label: not-published-year-works\n",
    "#| output: asis\n",
    "for year in sorted(pub_strs[\"worksinprogress\"].keys(), reverse=True):\n",
    "    display(Markdown(f\"### {year}\" + \"{#\" + f\"not-published-{year}\" + \"}\"))\n",
    "    display(HTML(\n",
    "        \"<ul class='list-group list-group-flush'>\" + '\\n'.join(pub_strs[\"worksinprogress\"][year]) + \"</ul>\"\n",
    "    ))"
   ]
  }
 ],
 "metadata": {
  "kernelspec": {
   "display_name": "Python 3 (ipykernel)",
   "language": "python",
   "name": "python3"
  },
  "language_info": {
   "codemirror_mode": {
    "name": "ipython",
    "version": 3
   },
   "file_extension": ".py",
   "mimetype": "text/x-python",
   "name": "python",
   "nbconvert_exporter": "python",
   "pygments_lexer": "ipython3",
   "version": "3.9.13"
  }
 },
 "nbformat": 4,
 "nbformat_minor": 5
}
